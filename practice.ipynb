{
  "nbformat": 4,
  "nbformat_minor": 0,
  "metadata": {
    "colab": {
      "provenance": [],
      "authorship_tag": "ABX9TyNInPsESqr7ei0zGF4sBNL7",
      "include_colab_link": true
    },
    "kernelspec": {
      "name": "python3",
      "display_name": "Python 3"
    },
    "language_info": {
      "name": "python"
    }
  },
  "cells": [
    {
      "cell_type": "markdown",
      "metadata": {
        "id": "view-in-github",
        "colab_type": "text"
      },
      "source": [
        "<a href=\"https://colab.research.google.com/github/Ashish30092001/Bookstore-Management-System-Python-Code-/blob/main/practice.ipynb\" target=\"_parent\"><img src=\"https://colab.research.google.com/assets/colab-badge.svg\" alt=\"Open In Colab\"/></a>"
      ]
    },
    {
      "cell_type": "code",
      "source": [
        "bookstore = []  # Empty list to store books\n",
        "\n",
        "\n",
        "def add_book():\n",
        "    title = input(\"Enter book title: \")\n",
        "    author = input(\"Enter author name: \")\n",
        "    price = float(input(\"Enter book price: \"))\n",
        "    book = {\"title\": title, \"author\": author, \"price\": price}\n",
        "    bookstore.append(book)\n",
        "    print(f\"\\n✅ '{title}' added successfully!\\n\")\n",
        "\n",
        "\n",
        "def view_books():\n",
        "    if not bookstore:\n",
        "        print(\"\\n📭 No books available in the store.\\n\")\n",
        "    else:\n",
        "        print(\"\\n📚 List of Books:\")\n",
        "        for i, book in enumerate(bookstore, 1):\n",
        "            print(f\"{i}. {book['title']} by {book['author']} - ₹{book['price']}\")\n",
        "        print()\n",
        "\n",
        "\n",
        "def search_book():\n",
        "    keyword = input(\"Enter title or author to search: \").lower()\n",
        "    found = [b for b in bookstore if keyword in b[\"title\"].lower() or keyword in b[\"author\"].lower()]\n",
        "    if found:\n",
        "        print(\"\\n🔍 Search Results:\")\n",
        "        for book in found:\n",
        "            print(f\"{book['title']} by {book['author']} - ₹{book['price']}\")\n",
        "    else:\n",
        "        print(\"\\n❌ No matching book found.\\n\")\n",
        "\n",
        "\n",
        "def delete_book():\n",
        "    view_books()\n",
        "    if bookstore:\n",
        "        try:\n",
        "            index = int(input(\"Enter book number to delete: \")) - 1\n",
        "            if 0 <= index < len(bookstore):\n",
        "                removed = bookstore.pop(index)\n",
        "                print(f\"\\n🗑️ '{removed['title']}' removed successfully!\\n\")\n",
        "            else:\n",
        "                print(\"\\n⚠️ Invalid book number.\\n\")\n",
        "        except ValueError:\n",
        "            print(\"\\n⚠️ Please enter a valid number.\\n\")\n",
        "\n",
        "\n",
        "def main():\n",
        "    while True:\n",
        "        print(\"===== 📘 Bookstore Management System =====\")\n",
        "        print(\"1. Add Book\")\n",
        "        print(\"2. View All Books\")\n",
        "        print(\"3. Search Book\")\n",
        "        print(\"4. Delete Book\")\n",
        "        print(\"5. Exit\")\n",
        "        choice = input(\"Enter your choice (1-5): \")\n",
        "\n",
        "        if choice == \"1\":\n",
        "            add_book()\n",
        "        elif choice == \"2\":\n",
        "            view_books()\n",
        "        elif choice == \"3\":\n",
        "            search_book()\n",
        "        elif choice == \"4\":\n",
        "            delete_book()\n",
        "        elif choice == \"5\":\n",
        "            print(\"\\n👋 Thank you for using the system! Bye!\\n\")\n",
        "            break\n",
        "        else:\n",
        "            print(\"\\n⚠️ Invalid choice! Try again.\\n\")\n",
        "\n",
        "\n",
        "# Run the program\n",
        "main()"
      ],
      "metadata": {
        "colab": {
          "base_uri": "https://localhost:8080/",
          "height": 842
        },
        "id": "ocfFYHH1jP5w",
        "outputId": "b54f742c-3190-4e35-95b8-476a08d3439e"
      },
      "execution_count": 1,
      "outputs": [
        {
          "output_type": "stream",
          "name": "stdout",
          "text": [
            "===== 📘 Bookstore Management System =====\n",
            "1. Add Book\n",
            "2. View All Books\n",
            "3. Search Book\n",
            "4. Delete Book\n",
            "5. Exit\n",
            "Enter your choice (1-5): Add Book\n",
            "\n",
            "⚠️ Invalid choice! Try again.\n",
            "\n",
            "===== 📘 Bookstore Management System =====\n",
            "1. Add Book\n",
            "2. View All Books\n",
            "3. Search Book\n",
            "4. Delete Book\n",
            "5. Exit\n",
            "Enter your choice (1-5): 1\n",
            "Enter book title: Geography\n",
            "Enter author name: Ashish singh\n",
            "Enter book price: 499\n",
            "\n",
            "✅ 'Geography' added successfully!\n",
            "\n",
            "===== 📘 Bookstore Management System =====\n",
            "1. Add Book\n",
            "2. View All Books\n",
            "3. Search Book\n",
            "4. Delete Book\n",
            "5. Exit\n"
          ]
        },
        {
          "output_type": "error",
          "ename": "KeyboardInterrupt",
          "evalue": "Interrupted by user",
          "traceback": [
            "\u001b[0;31m---------------------------------------------------------------------------\u001b[0m",
            "\u001b[0;31mKeyboardInterrupt\u001b[0m                         Traceback (most recent call last)",
            "\u001b[0;32m/tmp/ipython-input-4220221381.py\u001b[0m in \u001b[0;36m<cell line: 0>\u001b[0;34m()\u001b[0m\n\u001b[1;32m     72\u001b[0m \u001b[0;34m\u001b[0m\u001b[0m\n\u001b[1;32m     73\u001b[0m \u001b[0;31m# Run the program\u001b[0m\u001b[0;34m\u001b[0m\u001b[0;34m\u001b[0m\u001b[0m\n\u001b[0;32m---> 74\u001b[0;31m \u001b[0mmain\u001b[0m\u001b[0;34m(\u001b[0m\u001b[0;34m)\u001b[0m\u001b[0;34m\u001b[0m\u001b[0;34m\u001b[0m\u001b[0m\n\u001b[0m",
            "\u001b[0;32m/tmp/ipython-input-4220221381.py\u001b[0m in \u001b[0;36mmain\u001b[0;34m()\u001b[0m\n\u001b[1;32m     54\u001b[0m         \u001b[0mprint\u001b[0m\u001b[0;34m(\u001b[0m\u001b[0;34m\"4. Delete Book\"\u001b[0m\u001b[0;34m)\u001b[0m\u001b[0;34m\u001b[0m\u001b[0;34m\u001b[0m\u001b[0m\n\u001b[1;32m     55\u001b[0m         \u001b[0mprint\u001b[0m\u001b[0;34m(\u001b[0m\u001b[0;34m\"5. Exit\"\u001b[0m\u001b[0;34m)\u001b[0m\u001b[0;34m\u001b[0m\u001b[0;34m\u001b[0m\u001b[0m\n\u001b[0;32m---> 56\u001b[0;31m         \u001b[0mchoice\u001b[0m \u001b[0;34m=\u001b[0m \u001b[0minput\u001b[0m\u001b[0;34m(\u001b[0m\u001b[0;34m\"Enter your choice (1-5): \"\u001b[0m\u001b[0;34m)\u001b[0m\u001b[0;34m\u001b[0m\u001b[0;34m\u001b[0m\u001b[0m\n\u001b[0m\u001b[1;32m     57\u001b[0m \u001b[0;34m\u001b[0m\u001b[0m\n\u001b[1;32m     58\u001b[0m         \u001b[0;32mif\u001b[0m \u001b[0mchoice\u001b[0m \u001b[0;34m==\u001b[0m \u001b[0;34m\"1\"\u001b[0m\u001b[0;34m:\u001b[0m\u001b[0;34m\u001b[0m\u001b[0;34m\u001b[0m\u001b[0m\n",
            "\u001b[0;32m/usr/local/lib/python3.12/dist-packages/ipykernel/kernelbase.py\u001b[0m in \u001b[0;36mraw_input\u001b[0;34m(self, prompt)\u001b[0m\n\u001b[1;32m   1175\u001b[0m                 \u001b[0;34m\"raw_input was called, but this frontend does not support input requests.\"\u001b[0m\u001b[0;34m\u001b[0m\u001b[0;34m\u001b[0m\u001b[0m\n\u001b[1;32m   1176\u001b[0m             )\n\u001b[0;32m-> 1177\u001b[0;31m         return self._input_request(\n\u001b[0m\u001b[1;32m   1178\u001b[0m             \u001b[0mstr\u001b[0m\u001b[0;34m(\u001b[0m\u001b[0mprompt\u001b[0m\u001b[0;34m)\u001b[0m\u001b[0;34m,\u001b[0m\u001b[0;34m\u001b[0m\u001b[0;34m\u001b[0m\u001b[0m\n\u001b[1;32m   1179\u001b[0m             \u001b[0mself\u001b[0m\u001b[0;34m.\u001b[0m\u001b[0m_parent_ident\u001b[0m\u001b[0;34m[\u001b[0m\u001b[0;34m\"shell\"\u001b[0m\u001b[0;34m]\u001b[0m\u001b[0;34m,\u001b[0m\u001b[0;34m\u001b[0m\u001b[0;34m\u001b[0m\u001b[0m\n",
            "\u001b[0;32m/usr/local/lib/python3.12/dist-packages/ipykernel/kernelbase.py\u001b[0m in \u001b[0;36m_input_request\u001b[0;34m(self, prompt, ident, parent, password)\u001b[0m\n\u001b[1;32m   1217\u001b[0m             \u001b[0;32mexcept\u001b[0m \u001b[0mKeyboardInterrupt\u001b[0m\u001b[0;34m:\u001b[0m\u001b[0;34m\u001b[0m\u001b[0;34m\u001b[0m\u001b[0m\n\u001b[1;32m   1218\u001b[0m                 \u001b[0;31m# re-raise KeyboardInterrupt, to truncate traceback\u001b[0m\u001b[0;34m\u001b[0m\u001b[0;34m\u001b[0m\u001b[0m\n\u001b[0;32m-> 1219\u001b[0;31m                 \u001b[0;32mraise\u001b[0m \u001b[0mKeyboardInterrupt\u001b[0m\u001b[0;34m(\u001b[0m\u001b[0;34m\"Interrupted by user\"\u001b[0m\u001b[0;34m)\u001b[0m \u001b[0;32mfrom\u001b[0m \u001b[0;32mNone\u001b[0m\u001b[0;34m\u001b[0m\u001b[0;34m\u001b[0m\u001b[0m\n\u001b[0m\u001b[1;32m   1220\u001b[0m             \u001b[0;32mexcept\u001b[0m \u001b[0mException\u001b[0m\u001b[0;34m:\u001b[0m\u001b[0;34m\u001b[0m\u001b[0;34m\u001b[0m\u001b[0m\n\u001b[1;32m   1221\u001b[0m                 \u001b[0mself\u001b[0m\u001b[0;34m.\u001b[0m\u001b[0mlog\u001b[0m\u001b[0;34m.\u001b[0m\u001b[0mwarning\u001b[0m\u001b[0;34m(\u001b[0m\u001b[0;34m\"Invalid Message:\"\u001b[0m\u001b[0;34m,\u001b[0m \u001b[0mexc_info\u001b[0m\u001b[0;34m=\u001b[0m\u001b[0;32mTrue\u001b[0m\u001b[0;34m)\u001b[0m\u001b[0;34m\u001b[0m\u001b[0;34m\u001b[0m\u001b[0m\n",
            "\u001b[0;31mKeyboardInterrupt\u001b[0m: Interrupted by user"
          ]
        }
      ]
    }
  ]
}